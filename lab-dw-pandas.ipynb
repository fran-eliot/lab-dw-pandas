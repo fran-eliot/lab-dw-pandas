{
 "cells": [
  {
   "cell_type": "markdown",
   "id": "25d7736c-ba17-4aff-b6bb-66eba20fbf4e",
   "metadata": {},
   "source": [
    "# Lab | Pandas"
   ]
  },
  {
   "cell_type": "markdown",
   "id": "d1973e9e-8be6-4039-b70e-d73ee0d94c99",
   "metadata": {},
   "source": [
    "In this lab, we will be working with the customer data from an insurance company, which can be found in the CSV file located at the following link: https://raw.githubusercontent.com/data-bootcamp-v4/data/main/file1.csv\n",
    "\n",
    "The data includes information such as customer ID, state, gender, education, income, and other variables that can be used to perform various analyses.\n",
    "\n",
    "Throughout the lab, we will be using the pandas library in Python to manipulate and analyze the data. Pandas is a powerful library that provides various data manipulation and analysis tools, including the ability to load and manipulate data from a variety of sources, including CSV files."
   ]
  },
  {
   "cell_type": "markdown",
   "id": "8045146f-f4f7-44d9-8cd9-130d6400c73a",
   "metadata": {},
   "source": [
    "### Data Description\n",
    "\n",
    "- Customer - Customer ID\n",
    "\n",
    "- ST - State where customers live\n",
    "\n",
    "- Gender - Gender of the customer\n",
    "\n",
    "- Education - Background education of customers \n",
    "\n",
    "- Customer Lifetime Value - Customer lifetime value(CLV) is the total revenue the client will derive from their entire relationship with a customer. In other words, is the predicted or calculated value of a customer over their entire duration as a policyholder with the insurance company. It is an estimation of the net profit that the insurance company expects to generate from a customer throughout their relationship with the company. Customer Lifetime Value takes into account factors such as the duration of the customer's policy, premium payments, claim history, renewal likelihood, and potential additional services or products the customer may purchase. It helps insurers assess the long-term profitability and value associated with retaining a particular customer.\n",
    "\n",
    "- Income - Customers income\n",
    "\n",
    "- Monthly Premium Auto - Amount of money the customer pays on a monthly basis as a premium for their auto insurance coverage. It represents the recurring cost that the insured person must pay to maintain their insurance policy and receive coverage for potential damages, accidents, or other covered events related to their vehicle.\n",
    "\n",
    "- Number of Open Complaints - Number of complaints the customer opened\n",
    "\n",
    "- Policy Type - There are three type of policies in car insurance (Corporate Auto, Personal Auto, and Special Auto)\n",
    "\n",
    "- Vehicle Class - Type of vehicle classes that customers have Two-Door Car, Four-Door Car SUV, Luxury SUV, Sports Car, and Luxury Car\n",
    "\n",
    "- Total Claim Amount - the sum of all claims made by the customer. It represents the total monetary value of all approved claims for incidents such as accidents, theft, vandalism, or other covered events.\n"
   ]
  },
  {
   "cell_type": "markdown",
   "id": "3a72419b-20fc-4905-817a-8c83abc59de6",
   "metadata": {},
   "source": [
    "External Resources: https://towardsdatascience.com/filtering-data-frames-in-pandas-b570b1f834b9"
   ]
  },
  {
   "cell_type": "markdown",
   "id": "8f8ece17-e919-4e23-96c0-c7c59778436a",
   "metadata": {},
   "source": [
    "## Challenge 1: Understanding the data\n",
    "\n",
    "In this challenge, you will use pandas to explore a given dataset. Your task is to gain a deep understanding of the data by analyzing its characteristics, dimensions, and statistical properties."
   ]
  },
  {
   "cell_type": "markdown",
   "id": "91437bd5-59a6-49c0-8150-ef0e6e6eb253",
   "metadata": {},
   "source": [
    "- Identify the dimensions of the dataset by determining the number of rows and columns it contains.\n",
    "- Determine the data types of each column and evaluate whether they are appropriate for the nature of the variable. You should also provide suggestions for fixing any incorrect data types.\n",
    "- Identify the number of unique values for each column and determine which columns appear to be categorical. You should also describe the unique values of each categorical column and the range of values for numerical columns, and give your insights.\n",
    "- Compute summary statistics such as mean, median, mode, standard deviation, and quartiles to understand the central tendency and distribution of the data for numerical columns. You should also provide your conclusions based on these summary statistics.\n",
    "- Compute summary statistics for categorical columns and providing your conclusions based on these statistics."
   ]
  },
  {
   "cell_type": "code",
   "execution_count": null,
   "id": "dd4e8cd8-a6f6-486c-a5c4-1745b0c035f4",
   "metadata": {},
   "outputs": [
    {
     "name": "stdout",
     "output_type": "stream",
     "text": [
      "Dimensiones del Dataframe: (4008, 11)\n",
      "<class 'pandas.core.frame.DataFrame'>\n",
      "RangeIndex: 4008 entries, 0 to 4007\n",
      "Data columns (total 11 columns):\n",
      " #   Column                     Non-Null Count  Dtype  \n",
      "---  ------                     --------------  -----  \n",
      " 0   Customer                   1071 non-null   object \n",
      " 1   ST                         1071 non-null   object \n",
      " 2   GENDER                     954 non-null    object \n",
      " 3   Education                  1071 non-null   object \n",
      " 4   Customer Lifetime Value    1068 non-null   object \n",
      " 5   Income                     1071 non-null   float64\n",
      " 6   Monthly Premium Auto       1071 non-null   float64\n",
      " 7   Number of Open Complaints  1071 non-null   object \n",
      " 8   Policy Type                1071 non-null   object \n",
      " 9   Vehicle Class              1071 non-null   object \n",
      " 10  Total Claim Amount         1071 non-null   float64\n",
      "dtypes: float64(3), object(8)\n",
      "memory usage: 344.6+ KB\n",
      "Valores únicos en la columna ST: ['Washington' 'Arizona' 'Nevada' 'California' 'Oregon' 'Cali' 'AZ' 'WA'\n",
      " nan]\n",
      "Valores únicos en la columna GENDER: [nan 'F' 'M' 'Femal' 'Male' 'female']\n",
      "Valores únicos en la columna Education: ['Master' 'Bachelor' 'High School or Below' 'College' 'Bachelors' 'Doctor'\n",
      " nan]\n",
      "Valores únicos en la columna Number of Open Complaints: ['1/0/00' '1/2/00' '1/1/00' '1/3/00' '1/5/00' '1/4/00' nan]\n",
      "Valores únicos en la columna Policy Type: ['Personal Auto' 'Corporate Auto' 'Special Auto' nan]\n",
      "Valores únicos en la columna Vehicle Class: ['Four-Door Car' 'Two-Door Car' 'SUV' 'Luxury SUV' 'Sports Car'\n",
      " 'Luxury Car' nan]\n",
      "Resumen de estadísticas de la columna Customer Lifetime Value:\n",
      "count     1068.000000\n",
      "mean      7936.902593\n",
      "std       6434.784103\n",
      "min       2004.350700\n",
      "25%       4034.079950\n",
      "50%       5881.742350\n",
      "75%       8962.871975\n",
      "max      58166.553500\n",
      "Name: Customer Lifetime Value, dtype: float64\n",
      "Resumen de estadísticas de la columna Income:\n",
      "count     1071.000000\n",
      "mean     39295.701214\n",
      "std      30469.427060\n",
      "min          0.000000\n",
      "25%      14072.000000\n",
      "50%      36234.000000\n",
      "75%      64631.000000\n",
      "max      99960.000000\n",
      "Name: Income, dtype: float64\n",
      "Resumen de estadísticas de la columna Monthly Premium Auto:\n",
      "count     1071.000000\n",
      "mean       193.234360\n",
      "std       1601.190369\n",
      "min         61.000000\n",
      "25%         68.000000\n",
      "50%         83.000000\n",
      "75%        109.500000\n",
      "max      35354.000000\n",
      "Name: Monthly Premium Auto, dtype: float64\n",
      "Resumen de estadísticas de la columna Total Claim Amount:\n",
      "count    1071.000000\n",
      "mean      404.986909\n",
      "std       293.027260\n",
      "min         0.382107\n",
      "25%       202.157702\n",
      "50%       354.729129\n",
      "75%       532.800000\n",
      "max      2893.239678\n",
      "Name: Total Claim Amount, dtype: float64\n",
      "Resumen de estadísticas de la columna ST:\n",
      "count       1071\n",
      "unique         8\n",
      "top       Oregon\n",
      "freq         320\n",
      "Name: ST, dtype: object\n",
      "Resumen de estadísticas de la columna GENDER:\n",
      "count     954\n",
      "unique      5\n",
      "top         F\n",
      "freq      457\n",
      "Name: GENDER, dtype: object\n",
      "Resumen de estadísticas de la columna Education:\n",
      "count         1071\n",
      "unique           6\n",
      "top       Bachelor\n",
      "freq           324\n",
      "Name: Education, dtype: object\n",
      "Resumen de estadísticas de la columna Policy Type:\n",
      "count              1071\n",
      "unique                3\n",
      "top       Personal Auto\n",
      "freq                780\n",
      "Name: Policy Type, dtype: object\n",
      "Resumen de estadísticas de la columna Vehicle Class:\n",
      "count              1071\n",
      "unique                6\n",
      "top       Four-Door Car\n",
      "freq                576\n",
      "Name: Vehicle Class, dtype: object\n",
      "[       nan  6979.5359 12887.4317 ... 20314.9976  3239.1247  8997.0402]\n"
     ]
    }
   ],
   "source": [
    "import pandas as pd\n",
    "\n",
    "#Leemos la hoja de calculo y la metemos en un DataFrame\n",
    "df = pd.read_csv(\"https://raw.githubusercontent.com/data-bootcamp-v4/data/main/file1.csv\")\n",
    "\n",
    "#Identificamos las dimensiones del Dataframe\n",
    "print(f\"Dimensiones del Dataframe: {df.shape}\")\n",
    "\n",
    "#Determinadmos los tipos de datos de cada columna\n",
    "df.info()\n",
    "#Transformamos la columna 'Customer Lifetime Value' en numerica, eliminando el % final, y después normalizamos\n",
    "df['Customer Lifetime Value'] = df['Customer Lifetime Value'].str.replace('%', '').astype(float)\n",
    "df['Customer Lifetime Value'] = df['Customer Lifetime Value'] / 100\n",
    "columnas_numericas = ['Customer Lifetime Value','Income', 'Monthly Premium Auto','Total Claim Amount']\n",
    "\n",
    "#Vemos cuantos valores unicos existen por cada columna\n",
    "df.nunique()\n",
    "\n",
    "#Tras el análisis consideramos las posibles columnas categóricas (si no tienen muchos valores únicos diferentes)\n",
    "columnas_posible_categoricas = ['ST','GENDER','Education','Number of Open Complaints','Policy Type','Vehicle Class']\n",
    "#Vemos los valores unicos de las columnas \n",
    "for column in columnas_posible_categoricas:\n",
    "    print(f'Valores únicos en la columna {column}: {df[column].unique()}')\n",
    "\n",
    "#Tras el análisis consideramos las columnas categóricas   \n",
    "columnas_categoricas = ['ST','GENDER','Education','Policy Type','Vehicle Class']\n",
    "\n",
    "#Conseguimos un resumen estadístico de las columnas numéricas\n",
    "for column in columnas_numericas:\n",
    "    print(f\"Resumen de estadísticas de la columna {column}:\")\n",
    "    print(df[column].describe())\n",
    "\n",
    "#Conseguimos un resumen estadístico de las columnas categóricas\n",
    "for column in columnas_categoricas:\n",
    "    print(f\"Resumen de estadísticas de la columna {column}:\")\n",
    "    print(df[column].describe())\n",
    "\n",
    "#Conclusiones\n",
    "# Income: La media es mucho mayor que la mediana, por lo que la distribución es sesgada al haber ingresos muy altos\n",
    "#         Faltan ingresos de clientes (=0) o quizás sean desempleados\n",
    "# Monthly Premium Auto: Distribución más uniforme, por lo que la mayoría de clientes pagarían primas similares, lo que indica seguros standarizados\n",
    "# Total Claim Amount: Muchos clientes no han realizado reclamaciones y otros han realizado reclamaciones muy costosas\n",
    "#                     La mayoría de clientes no generan mucho valor a largo plazo\n",
    "# Con las variables categóricas podríamos averiguar la distribución de clientes por estado, si hay o no equilibrio entre los sexos, el nivel\n",
    "# educativo de los clientes, los productos o tipos de póliza más demandados, o incluso los vehículos que predominan "
   ]
  },
  {
   "cell_type": "markdown",
   "id": "4a703890-63db-4944-b7ab-95a4f8185120",
   "metadata": {},
   "source": [
    "## Challenge 2: analyzing the data"
   ]
  },
  {
   "cell_type": "markdown",
   "id": "0776a403-c56a-452f-ac33-5fd4fdb06fc7",
   "metadata": {},
   "source": [
    "### Exercise 1"
   ]
  },
  {
   "cell_type": "markdown",
   "id": "eedbc484-da4d-4f9c-9343-e1d44311a87e",
   "metadata": {},
   "source": [
    "The marketing team wants to know the top 5 less common customer locations. Create a pandas Series object that contains the customer locations and their frequencies, and then retrieve the top 5 less common locations in ascending order."
   ]
  },
  {
   "cell_type": "code",
   "execution_count": 48,
   "id": "2dca5073-4520-4f42-9390-4b92733284ed",
   "metadata": {},
   "outputs": [
    {
     "name": "stdout",
     "output_type": "stream",
     "text": [
      "ST\n",
      "AZ             25\n",
      "WA             30\n",
      "Washington     81\n",
      "Nevada         98\n",
      "Cali          120\n",
      "Name: Customer, dtype: int64\n",
      "\n",
      "Los estados con menos clientes son: \n",
      "AZ\n",
      "WA\n",
      "Washington\n",
      "Nevada\n",
      "Cali\n"
     ]
    }
   ],
   "source": [
    "less_common = df.groupby('ST')['Customer'].count().sort_values().head(5)\n",
    "print(less_common)\n",
    "\n",
    "print(\"\\nLos estados con menos clientes son: \")\n",
    "for state,count in less_common.items():\n",
    "    print(state)\n",
    "\n",
    "\n"
   ]
  },
  {
   "cell_type": "markdown",
   "id": "0ce80f43-4afa-43c7-a78a-c917444da4e0",
   "metadata": {},
   "source": [
    "### Exercise 2\n",
    "\n",
    "The sales team wants to know the total number of policies sold for each type of policy. Create a pandas Series object that contains the policy types and their total number of policies sold, and then retrieve the policy type with the highest number of policies sold."
   ]
  },
  {
   "cell_type": "markdown",
   "id": "a9f13997-1555-4f98-aca6-970fda1d2c3f",
   "metadata": {},
   "source": [
    "*Hint:*\n",
    "- *Using value_counts() method simplifies this analysis.*\n",
    "- *Futhermore, there is a method that returns the index of the maximum value in a column or row.*\n"
   ]
  },
  {
   "cell_type": "code",
   "execution_count": 61,
   "id": "bcfad6c1-9af2-4b0b-9aa9-0dc5c17473c0",
   "metadata": {},
   "outputs": [
    {
     "name": "stdout",
     "output_type": "stream",
     "text": [
      "El tipo de póliza que se ha vendido más es: Personal Auto con 780 pólizas\n"
     ]
    }
   ],
   "source": [
    "number_of_policies = df.groupby('Policy Type')['Customer'].count()\n",
    "#Forma usando values_count()\n",
    "#number_of_policies = df['Policy Type'].value_counts()\n",
    "maximo = number_of_policies.max()\n",
    "for tipo,numero in number_of_policies.items():\n",
    "    if numero == maximo:\n",
    "        tipo_mas_vendido=tipo\n",
    "\n",
    "#Forma más simplificada\n",
    "#tipo_mas_vendido = number_of_policies.idxmax()\n",
    "\n",
    "print(f\"El tipo de póliza que se ha vendido más es: {tipo_mas_vendido} con {maximo} pólizas\")  \n"
   ]
  },
  {
   "cell_type": "markdown",
   "id": "0b863fd3-bf91-4d5d-86eb-be29ed9f5b70",
   "metadata": {},
   "source": [
    "### Exercise 3\n",
    "\n",
    "The sales team wants to know if customers with Personal Auto have a lower income than those with Corporate Auto. How does the average income compare between the two policy types?"
   ]
  },
  {
   "cell_type": "markdown",
   "id": "b1386d75-2810-4aa1-93e0-9485aa12d552",
   "metadata": {},
   "source": [
    "- Use *loc* to create two dataframes: one containing only Personal Auto policies and one containing only Corporate Auto policies.\n",
    "- Calculate the average income for each policy.\n",
    "- Print the results."
   ]
  },
  {
   "cell_type": "code",
   "execution_count": 70,
   "id": "0c0563cf-6f8b-463d-a321-651a972f82e5",
   "metadata": {},
   "outputs": [
    {
     "name": "stdout",
     "output_type": "stream",
     "text": [
      "Ingreso promedio - Personal Auto: $38,180.70\n",
      "Ingreso promedio - Corporate Auto: $41,390.31\n"
     ]
    }
   ],
   "source": [
    "personal_auto_df = df.loc[df['Policy Type'] == 'Personal Auto']\n",
    "corporate_auto_df = df.loc[df['Policy Type'] == 'Corporate Auto']\n",
    "\n",
    "avg_income_personal = personal_auto_df['Income'].mean()\n",
    "avg_income_corporate = corporate_auto_df['Income'].mean()\n",
    "\n",
    "print(f\"Ingreso promedio - Personal Auto: ${avg_income_personal:,.2f}\")\n",
    "print(f\"Ingreso promedio - Corporate Auto: ${avg_income_corporate:,.2f}\")\n",
    "\n",
    "\n"
   ]
  },
  {
   "cell_type": "markdown",
   "id": "80b16c27-f4a5-4727-a229-1f88671cf4e2",
   "metadata": {},
   "source": [
    "### Bonus: Exercise 4\n"
   ]
  },
  {
   "cell_type": "markdown",
   "id": "ac584986-299b-475f-ac2e-928c16c3f512",
   "metadata": {},
   "source": [
    "Your goal is to identify customers with a high policy claim amount.\n",
    "\n",
    "Instructions:\n",
    "\n",
    "- Review again the statistics for total claim amount to gain an understanding of the data.\n",
    "- To identify potential areas for improving customer retention and profitability, we want to focus on customers with a high policy claim amount. Consider customers with a high policy claim amount to be those in the top 25% of the total claim amount. Create a pandas DataFrame object that contains information about customers with a policy claim amount greater than the 75th percentile.\n",
    "- Use DataFrame methods to calculate summary statistics about the high policy claim amount data. "
   ]
  },
  {
   "cell_type": "markdown",
   "id": "4e3af5f1-6023-4b05-9c01-d05392daa650",
   "metadata": {},
   "source": [
    "*Note: When analyzing data, we often want to focus on certain groups of values to gain insights. Percentiles are a useful tool to help us define these groups. A percentile is a measure that tells us what percentage of values in a dataset are below a certain value. For example, the 75th percentile represents the value below which 75% of the data falls. Similarly, the 25th percentile represents the value below which 25% of the data falls. When we talk about the top 25%, we are referring to the values that fall above the 75th percentile, which represent the top quarter of the data. On the other hand, when we talk about the bottom 25%, we are referring to the values that fall below the 25th percentile, which represent the bottom quarter of the data. By focusing on these groups, we can identify patterns and trends that may be useful for making decisions and taking action.*\n",
    "\n",
    "*Hint: look for a method that gives you the percentile or quantile 0.75 and 0.25 for a Pandas Series.*"
   ]
  },
  {
   "cell_type": "markdown",
   "id": "2d234634-50bd-41e0-88f7-d5ba684455d1",
   "metadata": {},
   "source": [
    "*Hint 2: check `Boolean selection according to the values of a single column` in https://towardsdatascience.com/filtering-data-frames-in-pandas-b570b1f834b9*"
   ]
  },
  {
   "cell_type": "code",
   "execution_count": 73,
   "id": "b731bca6-a760-4860-a27b-a33efa712ce0",
   "metadata": {},
   "outputs": [
    {
     "name": "stdout",
     "output_type": "stream",
     "text": [
      "       Customer      ST GENDER Education  Customer Lifetime Value  \\\n",
      "count       264     264    238       264               264.000000   \n",
      "unique      264       7      5         5                      NaN   \n",
      "top     MY31220  Oregon      F  Bachelor                      NaN   \n",
      "freq          1      90    115        85                      NaN   \n",
      "mean        NaN     NaN    NaN       NaN              9086.868131   \n",
      "std         NaN     NaN    NaN       NaN              6387.677898   \n",
      "min         NaN     NaN    NaN       NaN              2287.596900   \n",
      "25%         NaN     NaN    NaN       NaN              4723.957925   \n",
      "50%         NaN     NaN    NaN       NaN              7781.768250   \n",
      "75%         NaN     NaN    NaN       NaN             10544.299275   \n",
      "max         NaN     NaN    NaN       NaN             38445.855900   \n",
      "\n",
      "              Income  Monthly Premium Auto Number of Open Complaints  \\\n",
      "count     264.000000            264.000000                       264   \n",
      "unique           NaN                   NaN                         6   \n",
      "top              NaN                   NaN                    1/0/00   \n",
      "freq             NaN                   NaN                       206   \n",
      "mean    23677.344697            165.193182                       NaN   \n",
      "std     27013.483721            623.930992                       NaN   \n",
      "min         0.000000             63.000000                       NaN   \n",
      "25%         0.000000             99.000000                       NaN   \n",
      "50%     18807.000000            114.000000                       NaN   \n",
      "75%     42423.750000            133.250000                       NaN   \n",
      "max     99316.000000          10202.000000                       NaN   \n",
      "\n",
      "          Policy Type Vehicle Class  Total Claim Amount  \n",
      "count             264           264          264.000000  \n",
      "unique              3             6                 NaN  \n",
      "top     Personal Auto           SUV                 NaN  \n",
      "freq              191           101                 NaN  \n",
      "mean              NaN           NaN          782.228263  \n",
      "std               NaN           NaN          292.751640  \n",
      "min               NaN           NaN          537.600000  \n",
      "25%               NaN           NaN          606.521741  \n",
      "50%               NaN           NaN          679.597985  \n",
      "75%               NaN           NaN          851.400000  \n",
      "max               NaN           NaN         2893.239678  \n"
     ]
    }
   ],
   "source": [
    "df['Total Claim Amount'].describe()\n",
    "\n",
    "percentil_75 = df['Total Claim Amount'].quantile(0.75)\n",
    "\n",
    "clientes_top_claim = df[df['Total Claim Amount'] > percentil_75]\n",
    "\n",
    "print(clientes_top_claim.describe(include='all'))"
   ]
  }
 ],
 "metadata": {
  "kernelspec": {
   "display_name": "venv",
   "language": "python",
   "name": "python3"
  },
  "language_info": {
   "codemirror_mode": {
    "name": "ipython",
    "version": 3
   },
   "file_extension": ".py",
   "mimetype": "text/x-python",
   "name": "python",
   "nbconvert_exporter": "python",
   "pygments_lexer": "ipython3",
   "version": "3.12.2"
  }
 },
 "nbformat": 4,
 "nbformat_minor": 5
}
